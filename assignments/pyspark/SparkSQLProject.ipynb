{
 "cells": [
  {
   "cell_type": "code",
   "execution_count": 0,
   "metadata": {
    "application/vnd.databricks.v1+cell": {
     "cellMetadata": {
      "byteLimit": 2048000,
      "rowLimit": 10000
     },
     "inputWidgets": {},
     "nuid": "1731b20e-f362-45a0-8cca-a206d91d5d14",
     "showTitle": false,
     "title": ""
    }
   },
   "outputs": [],
   "source": [
    "from pyspark import SparkContext\n",
    "from pyspark.sql import *"
   ]
  },
  {
   "cell_type": "code",
   "execution_count": 0,
   "metadata": {
    "application/vnd.databricks.v1+cell": {
     "cellMetadata": {
      "byteLimit": 2048000,
      "rowLimit": 10000
     },
     "inputWidgets": {},
     "nuid": "6be9fd30-2a9d-488c-855a-08430f5342d1",
     "showTitle": false,
     "title": ""
    }
   },
   "outputs": [],
   "source": [
    "df1 = spark.read.csv(\"/FileStore/tables/sharemarket.csv\",inferSchema=True)"
   ]
  },
  {
   "cell_type": "code",
   "execution_count": 0,
   "metadata": {
    "application/vnd.databricks.v1+cell": {
     "cellMetadata": {
      "byteLimit": 2048000,
      "rowLimit": 10000
     },
     "inputWidgets": {},
     "nuid": "f01eb68b-023b-482b-90dc-f93c219e985d",
     "showTitle": false,
     "title": ""
    }
   },
   "outputs": [
    {
     "output_type": "stream",
     "name": "stdout",
     "output_type": "stream",
     "text": [
      "root\n |-- MARKET: string (nullable = true)\n |-- SERIES: string (nullable = true)\n |-- SYMBOL: string (nullable = true)\n |-- SECURITY: string (nullable = true)\n |-- PREV_CL_PR: double (nullable = true)\n |-- OPEN_PRICE: double (nullable = true)\n |-- HIGH_PRICE: double (nullable = true)\n |-- LOW_PRICE: double (nullable = true)\n |-- CLOSE_PRICE: double (nullable = true)\n |-- NET_TRDVAL: double (nullable = true)\n |-- NET_TRDQTY: integer (nullable = true)\n |-- CORP_IND: string (nullable = true)\n |-- TRADES: integer (nullable = true)\n |-- HI_52_WK: double (nullable = true)\n |-- LO_52_WK: double (nullable = true)\n\n+------+------+------+--------------------+----------+----------+----------+---------+-----------+----------+----------+--------+------+--------+--------+\n|MARKET|SERIES|SYMBOL|            SECURITY|PREV_CL_PR|OPEN_PRICE|HIGH_PRICE|LOW_PRICE|CLOSE_PRICE|NET_TRDVAL|NET_TRDQTY|CORP_IND|TRADES|HI_52_WK|LO_52_WK|\n+------+------+------+--------------------+----------+----------+----------+---------+-----------+----------+----------+--------+------+--------+--------+\n|     N|    N1|  IRFC|BOND 8.00% PA TAX...|    1086.0|    1085.0|    1085.0|  1084.54|     1085.0|3371959.44|      3108|        |     8|  1194.0|  1050.0|\n|     N|    N1|  JNPT|BOND 6.82% PA TAX...|    1001.0|    1007.1|    1015.0|   1007.1|     1015.0|   51370.0|        51|        |     2| 1529.99|  1000.0|\n|     N|    N1|  NHAI|BOND 8.20% PA TAX...|   1091.38|    1092.0|    1092.0|   1087.0|    1089.98|3861145.49|      3544|        |    39|  1140.0|  1045.0|\n|     N|    N1|  NTPC|8.41%S-R-NCD SERI...|   1198.99|    1135.0|    1135.0|   1135.0|     1135.0|  113500.0|       100|        |     1|  1275.0|  1022.1|\n|     N|    N1|RECLTD|TAXFREE SEC NCD T...|   1083.54|    1088.0|    1088.0|   1085.0|     1085.0|  108530.0|       100|        |     2|  1184.8|  1041.0|\n+------+------+------+--------------------+----------+----------+----------+---------+-----------+----------+----------+--------+------+--------+--------+\nonly showing top 5 rows\n\n"
     ]
    }
   ],
   "source": [
    "cols = \"MARKET,SERIES,SYMBOL,SECURITY,PREV_CL_PR,OPEN_PRICE,HIGH_PRICE,LOW_PRICE,CLOSE_PRICE,NET_TRDVAL,NET_TRDQTY,CORP_IND,TRADES,HI_52_WK,LO_52_WK\".split(',')\n",
    "df_sharemarket = df1.toDF(*(cols))\n",
    "df_sharemarket.printSchema()\n",
    "df_sharemarket.show(5)"
   ]
  },
  {
   "cell_type": "code",
   "execution_count": 0,
   "metadata": {
    "application/vnd.databricks.v1+cell": {
     "cellMetadata": {
      "byteLimit": 2048000,
      "rowLimit": 10000
     },
     "inputWidgets": {},
     "nuid": "61e9148b-9eac-43ca-bccf-0860cedc1b2b",
     "showTitle": false,
     "title": ""
    }
   },
   "outputs": [],
   "source": [
    "df_sharemarket.createOrReplaceTempView(\"sharemarket\")"
   ]
  },
  {
   "cell_type": "code",
   "execution_count": 0,
   "metadata": {
    "application/vnd.databricks.v1+cell": {
     "cellMetadata": {
      "byteLimit": 2048000,
      "rowLimit": 10000
     },
     "inputWidgets": {},
     "nuid": "4b9e755a-f18f-4817-b375-b574d0eb8b3e",
     "showTitle": false,
     "title": ""
    }
   },
   "outputs": [
    {
     "output_type": "stream",
     "name": "stdout",
     "output_type": "stream",
     "text": [
      "+-------------+\n|num_of_series|\n+-------------+\n|           53|\n+-------------+\n\n"
     ]
    }
   ],
   "source": [
    "# Q1\n",
    "\n",
    "q1 = spark.sql(\"SELECT COUNT(DISTINCT(SERIES)) as num_of_series FROM sharemarket\")\n",
    "q1.show()"
   ]
  },
  {
   "cell_type": "code",
   "execution_count": 0,
   "metadata": {
    "application/vnd.databricks.v1+cell": {
     "cellMetadata": {
      "byteLimit": 2048000,
      "rowLimit": 10000
     },
     "inputWidgets": {},
     "nuid": "f39f69c3-2b7d-4158-b782-fa4da062f7a6",
     "showTitle": false,
     "title": ""
    }
   },
   "outputs": [
    {
     "output_type": "stream",
     "name": "stdout",
     "output_type": "stream",
     "text": [
      "+------+\n|series|\n+------+\n|    NL|\n|    NK|\n|    NJ|\n|    NA|\n|    N3|\n|    NH|\n|    NE|\n|    NC|\n|    ND|\n|    N7|\n|    N8|\n|    N2|\n|    N5|\n|    N4|\n|    N6|\n|    NI|\n|    N1|\n|    NG|\n|    N9|\n|    NB|\n+------+\nonly showing top 20 rows\n\n"
     ]
    }
   ],
   "source": [
    "# Q2\n",
    "\n",
    "q2 = spark.sql(\"SELECT DISTINCT(SERIES) as series FROM sharemarket\")\n",
    "q2.show()"
   ]
  },
  {
   "cell_type": "code",
   "execution_count": 0,
   "metadata": {
    "application/vnd.databricks.v1+cell": {
     "cellMetadata": {
      "byteLimit": 2048000,
      "rowLimit": 10000
     },
     "inputWidgets": {},
     "nuid": "84f0632c-5122-459e-823c-25050da01583",
     "showTitle": false,
     "title": ""
    }
   },
   "outputs": [
    {
     "output_type": "stream",
     "name": "stdout",
     "output_type": "stream",
     "text": [
      "+------+-------------+\n|SERIES|sum_of_series|\n+------+-------------+\n|    YH|      1028.01|\n|    NS|       1039.0|\n|    NL|       3380.9|\n|    NK|      1915.72|\n|    Z4|       1022.1|\n|    NJ|      4291.49|\n|    NX|       295.07|\n|    YS|       1135.0|\n|    NW|       1089.0|\n|    NA|     20059.57|\n|    Z8|       1035.0|\n|    YA|       300.98|\n|    NP|       1291.0|\n|    N3|      2087.38|\n|    NH|      4705.37|\n|    NE|     16846.83|\n|    NC|      14382.9|\n|    NQ|        315.0|\n|    Z1|       1299.0|\n|    NR|      1229.24|\n+------+-------------+\nonly showing top 20 rows\n\n"
     ]
    }
   ],
   "source": [
    "# Q3\n",
    "\n",
    "q3 = spark.sql(\"SELECT SERIES,SUM(CLOSE_PRICE) as sum_of_series FROM sharemarket GROUP BY SERIES\")\n",
    "q3.show()"
   ]
  },
  {
   "cell_type": "code",
   "execution_count": 0,
   "metadata": {
    "application/vnd.databricks.v1+cell": {
     "cellMetadata": {
      "byteLimit": 2048000,
      "rowLimit": 10000
     },
     "inputWidgets": {},
     "nuid": "48a8a449-0b5c-4b6e-9adf-82bd00dcbfc8",
     "showTitle": false,
     "title": ""
    }
   },
   "outputs": [
    {
     "output_type": "stream",
     "name": "stdout",
     "output_type": "stream",
     "text": [
      "+------+--------------------+\n|SERIES|            SECURITY|\n+------+--------------------+\n|    N6|8.75% TAX FREE TR...|\n+------+--------------------+\n\n"
     ]
    }
   ],
   "source": [
    "# Q4 Display security,series with highest net trade value\n",
    "q4= spark.sql(\"SELECT SERIES,SECURITY FROM sharemarket where NET_TRDVAL = (select max(NET_TRDVAL) from sharemarket)\")\n",
    "q4.show()\n"
   ]
  },
  {
   "cell_type": "code",
   "execution_count": 0,
   "metadata": {
    "application/vnd.databricks.v1+cell": {
     "cellMetadata": {
      "byteLimit": 2048000,
      "rowLimit": 10000
     },
     "inputWidgets": {},
     "nuid": "36edf683-525d-4958-80f5-1302ec41f04e",
     "showTitle": false,
     "title": ""
    }
   },
   "outputs": [
    {
     "output_type": "stream",
     "name": "stdout",
     "output_type": "stream",
     "text": [
      "+------+-----------------+----------+\n|SERIES|   sum_all_prices|NET_TRDVAL|\n+------+-----------------+----------+\n|    N2|           6103.0|    3666.0|\n|    N2|           5683.0|    4548.0|\n|    N4|          5108.84|   2044.02|\n|    N4|5159.200000000001|    4124.2|\n|    N5|           4824.8|    1912.4|\n|    N6|           6700.0|    1341.0|\n|    N9|          26340.0|   21060.0|\n|    NB|           4609.0|    1843.0|\n|    Y7|           1555.2|    1500.0|\n+------+-----------------+----------+\n\n"
     ]
    }
   ],
   "source": [
    "#Q5.Display the series whose sum of all prices greater than the net trade value\n",
    "\n",
    "q5= spark.sql(\"SELECT SERIES, (PREV_CL_PR+OPEN_PRICE+HIGH_PRICE+LOW_PRICE+CLOSE_PRICE) as sum_all_prices, NET_TRDVAL from sharemarket where (PREV_CL_PR+OPEN_PRICE+HIGH_PRICE+LOW_PRICE+CLOSE_PRICE)>NET_TRDVAL\")\n",
    "q5.show()"
   ]
  },
  {
   "cell_type": "code",
   "execution_count": 0,
   "metadata": {
    "application/vnd.databricks.v1+cell": {
     "cellMetadata": {
      "byteLimit": 2048000,
      "rowLimit": 10000
     },
     "inputWidgets": {},
     "nuid": "81f1770f-0493-4f5a-acde-e9d47a929477",
     "showTitle": false,
     "title": ""
    }
   },
   "outputs": [
    {
     "output_type": "stream",
     "name": "stdout",
     "output_type": "stream",
     "text": [
      "+------+----------+\n|SERIES|NET_TRDQTY|\n+------+----------+\n|    N3|    143810|\n+------+----------+\n\n"
     ]
    }
   ],
   "source": [
    "# 6.Display the series with highest net trade quantity\n",
    "\n",
    "q6= spark.sql(\"SELECT SERIES,NET_TRDQTY FROM sharemarket WHERE NET_TRDQTY = (SELECT MAX(NET_TRDQTY) FROM sharemarket)\")\n",
    "q6.show()"
   ]
  },
  {
   "cell_type": "code",
   "execution_count": 0,
   "metadata": {
    "application/vnd.databricks.v1+cell": {
     "cellMetadata": {
      "byteLimit": 2048000,
      "rowLimit": 10000
     },
     "inputWidgets": {},
     "nuid": "62d2f4c2-2b5c-47e2-928c-5f13bf6936c2",
     "showTitle": false,
     "title": ""
    }
   },
   "outputs": [
    {
     "output_type": "stream",
     "name": "stdout",
     "output_type": "stream",
     "text": [
      "+-------+------+\n|HIGHEST|LOWEST|\n+-------+------+\n|11450.0| 13.75|\n+-------+------+\n\n"
     ]
    }
   ],
   "source": [
    "# 7. Display the highest and lowest open price\n",
    "\n",
    "q7= spark.sql(\"SELECT MAX(OPEN_PRICE) AS HIGHEST, MIN(OPEN_PRICE) AS LOWEST FROM sharemarket\")\n",
    "q7.show()"
   ]
  },
  {
   "cell_type": "code",
   "execution_count": 0,
   "metadata": {
    "application/vnd.databricks.v1+cell": {
     "cellMetadata": {
      "byteLimit": 2048000,
      "rowLimit": 10000
     },
     "inputWidgets": {},
     "nuid": "efb2c162-5fbc-4b01-819c-0310a9b4c1a6",
     "showTitle": false,
     "title": ""
    }
   },
   "outputs": [
    {
     "output_type": "stream",
     "name": "stdout",
     "output_type": "stream",
     "text": [
      "+------+\n|SERIES|\n+------+\n|    N2|\n|    N3|\n|    N7|\n+------+\n\n"
     ]
    }
   ],
   "source": [
    "# 8.Query to display the series which have trades more than 80\n",
    "\n",
    "q8= spark.sql(\"SELECT SERIES FROM sharemarket WHERE TRADES>80\")\n",
    "q8.show()"
   ]
  },
  {
   "cell_type": "code",
   "execution_count": 0,
   "metadata": {
    "application/vnd.databricks.v1+cell": {
     "cellMetadata": {
      "byteLimit": 2048000,
      "rowLimit": 10000
     },
     "inputWidgets": {},
     "nuid": "ee7eddb7-bf08-464d-bd62-d7c3cfe3cebb",
     "showTitle": false,
     "title": ""
    }
   },
   "outputs": [
    {
     "output_type": "stream",
     "name": "stdout",
     "output_type": "stream",
     "text": [
      "+------+----------------+\n|SERIES|DIFFERENCE_TRADE|\n+------+----------------+\n|    N1|      3368851.44|\n|    N1|         51319.0|\n|    N1|      3857601.49|\n|    N1|        113400.0|\n|    N1|        108430.0|\n|    N2|       656911.39|\n|    N2|          3663.0|\n|    N2|          4544.0|\n|    N2|        422728.5|\n|    N2|       124959.45|\n|    N2|        464220.5|\n|    N2|        128175.0|\n|    N2|       526274.91|\n|    N2|        238200.0|\n|    N2|       1104894.5|\n|    N3|      4089407.99|\n|    N3|         78080.0|\n|    N3|      1727457.92|\n|    N4|         2042.02|\n|    N4|         29616.6|\n+------+----------------+\nonly showing top 20 rows\n\n"
     ]
    }
   ],
   "source": [
    "# 9.Display the difference between the net trade value net trade quantity for each series\n",
    "\n",
    "q9= spark.sql(\"SELECT SERIES, (NET_TRDVAL-NET_TRDQTY) AS DIFFERENCE_TRADE FROM sharemarket\")\n",
    "q9.show()"
   ]
  }
 ],
 "metadata": {
  "application/vnd.databricks.v1+notebook": {
   "dashboards": [],
   "language": "python",
   "notebookMetadata": {
    "pythonIndentUnit": 4
   },
   "notebookName": "SparkSQLProject",
   "notebookOrigID": 4500574092696761,
   "widgets": {}
  }
 },
 "nbformat": 4,
 "nbformat_minor": 0
}
